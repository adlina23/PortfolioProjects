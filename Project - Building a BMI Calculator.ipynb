{
 "cells": [
  {
   "cell_type": "markdown",
   "id": "4dc57287-de9c-41a1-9209-a930cb5ed3fb",
   "metadata": {},
   "source": [
    "# BMI Calculator"
   ]
  },
  {
   "cell_type": "code",
   "execution_count": 1,
   "id": "cdb76711-eb6a-4ee6-a037-61392ccd8446",
   "metadata": {},
   "outputs": [
    {
     "name": "stdin",
     "output_type": "stream",
     "text": [
      "Enter your name:  Adam\n",
      "Enter your weight in kilograms:  80\n",
      "Enter your height in meters:  1.73\n"
     ]
    },
    {
     "name": "stdout",
     "output_type": "stream",
     "text": [
      "BMI is  26.7\n",
      "Adam, you are overweight.\n"
     ]
    }
   ],
   "source": [
    "name = input(\"Enter your name: \")\n",
    "weight = float(input(\"Enter your weight in kilograms: \"))\n",
    "height = float(input(\"Enter your height in meters: \"))\n",
    "BMI = float(weight / (height * height))\n",
    "print(\"BMI is \", round(BMI,1))\n",
    "\n",
    "if BMI > 0:\n",
    "    if(BMI < 18.5):\n",
    "        print(name +\", you are underweight.\")\n",
    "    elif(BMI <=24.9):\n",
    "        print(name +\", you are normal weight.\")\n",
    "    elif(BMI <=29.9):\n",
    "        print(name +\", you are overweight.\")\n",
    "    elif(BMI <=34.9):\n",
    "        print(name +\", you are obese.\")\n",
    "    elif(BMI <=39.9):\n",
    "        print(name +\", you are severely obese.\")\n",
    "    else:\n",
    "        print(name +\", you are morbidly obese.\")\n",
    "else:\n",
    "    print(\"Enter valid inputs\")"
   ]
  },
  {
   "cell_type": "code",
   "execution_count": 34,
   "id": "89d6faa0-acdc-49e1-99a5-89e6e53fe9ca",
   "metadata": {},
   "outputs": [],
   "source": [
    "#BMI = (weight in kilograms) / (height in metres x height in metres)"
   ]
  },
  {
   "cell_type": "markdown",
   "id": "4da4764a-25d0-452f-8c5f-d3a813b6e41c",
   "metadata": {},
   "source": [
    "# BMI Classification \n",
    "- Under 18.5  - Underweight\n",
    "- 25 - 29.9\t  - Overweight\n",
    "- 30 - 34.9\t  - Obese\n",
    "- 35 - 39.9\t  - Severely Obese\n",
    "- 40 and over - Morbidly Obese"
   ]
  },
  {
   "cell_type": "code",
   "execution_count": null,
   "id": "6967fa10-8de1-44e7-ac75-aaa49d1cfeeb",
   "metadata": {},
   "outputs": [],
   "source": []
  }
 ],
 "metadata": {
  "kernelspec": {
   "display_name": "Python 3 (ipykernel)",
   "language": "python",
   "name": "python3"
  },
  "language_info": {
   "codemirror_mode": {
    "name": "ipython",
    "version": 3
   },
   "file_extension": ".py",
   "mimetype": "text/x-python",
   "name": "python",
   "nbconvert_exporter": "python",
   "pygments_lexer": "ipython3",
   "version": "3.12.4"
  }
 },
 "nbformat": 4,
 "nbformat_minor": 5
}
